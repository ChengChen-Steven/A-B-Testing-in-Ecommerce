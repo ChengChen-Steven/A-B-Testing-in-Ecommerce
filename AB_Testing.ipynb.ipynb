{
 "cells": [
  {
   "cell_type": "markdown",
   "metadata": {},
   "source": [
    "## A/B Testing in E-commerce"
   ]
  },
  {
   "cell_type": "markdown",
   "metadata": {},
   "source": [
    "Author: CHENG CHEN <br/>\n",
    "LinkedIn: https://www.linkedin.com/in/chengchen-jimmy<br/>\n",
    "Date: 06/30/2018<br/>\n",
    "\n",
    "This is a A/B testing tutorial. I will go through a basic A/B testing problem in the e-commerce field. The data comes from BitTiger. Please indicate the source if sharing. \n",
    "\n",
    "If you would like to give any suggestion or correct any field, I could be reached at cheng.chen.2017@marshall.usc.edu. It will be very helpful! Thanks beforehand!"
   ]
  },
  {
   "cell_type": "markdown",
   "metadata": {},
   "source": [
    "### Business Background & Questions\n",
    "\n",
    "This data shows user's activities on a online sales website.  \n",
    " \n",
    "An experiment was launched on day 4 with a goal to increase users' click through rate (clicks/views) and total revenue. \n",
    " \n",
    "Note: first 3 days no experiment, 4th-14th days experiment running \n",
    " \n",
    "Analyze the data and write a report to answer the following questions: \n",
    "\n",
    "1. Is the experiment correct? Please note any problems in your report. \n",
    "\n",
    "2. Did the test version help increase CTR and total revenue? Help the team make the right decisions. \n",
    "\n",
    "3. There might be learning effect for users to get used to the change. Help the team understand this."
   ]
  },
  {
   "cell_type": "markdown",
   "metadata": {},
   "source": [
    "### 1. Import the Dataset"
   ]
  },
  {
   "cell_type": "code",
   "execution_count": 1,
   "metadata": {},
   "outputs": [],
   "source": [
    "# from pip._internal import main\n",
    "# main(['install', 'pandasql'])"
   ]
  },
  {
   "cell_type": "code",
   "execution_count": 42,
   "metadata": {},
   "outputs": [],
   "source": [
    "## import libraries\n",
    "import os\n",
    "import pandas as pd\n",
    "import pip\n",
    "import pandasql as ps\n",
    "import numpy as np\n",
    "import datetime\n",
    "import scipy\n",
    "import random"
   ]
  },
  {
   "cell_type": "code",
   "execution_count": 43,
   "metadata": {},
   "outputs": [
    {
     "data": {
      "text/html": [
       "<div>\n",
       "<style scoped>\n",
       "    .dataframe tbody tr th:only-of-type {\n",
       "        vertical-align: middle;\n",
       "    }\n",
       "\n",
       "    .dataframe tbody tr th {\n",
       "        vertical-align: top;\n",
       "    }\n",
       "\n",
       "    .dataframe thead th {\n",
       "        text-align: right;\n",
       "    }\n",
       "</style>\n",
       "<table border=\"1\" class=\"dataframe\">\n",
       "  <thead>\n",
       "    <tr style=\"text-align: right;\">\n",
       "      <th></th>\n",
       "      <th>userid</th>\n",
       "      <th>country</th>\n",
       "      <th>groups</th>\n",
       "      <th>deviceid</th>\n",
       "      <th>device</th>\n",
       "      <th>sellerid</th>\n",
       "      <th>itemid</th>\n",
       "      <th>date</th>\n",
       "      <th>views</th>\n",
       "      <th>clicks</th>\n",
       "      <th>revenue</th>\n",
       "    </tr>\n",
       "  </thead>\n",
       "  <tbody>\n",
       "    <tr>\n",
       "      <th>0</th>\n",
       "      <td>3441.0</td>\n",
       "      <td>US</td>\n",
       "      <td>control</td>\n",
       "      <td>12745</td>\n",
       "      <td>Ios</td>\n",
       "      <td>306</td>\n",
       "      <td>1685</td>\n",
       "      <td>2017-05-09</td>\n",
       "      <td>5</td>\n",
       "      <td>1</td>\n",
       "      <td>0.00000</td>\n",
       "    </tr>\n",
       "    <tr>\n",
       "      <th>1</th>\n",
       "      <td>3048.0</td>\n",
       "      <td>GB</td>\n",
       "      <td>control</td>\n",
       "      <td>19244</td>\n",
       "      <td>Android</td>\n",
       "      <td>227</td>\n",
       "      <td>2257</td>\n",
       "      <td>2017-05-09</td>\n",
       "      <td>3</td>\n",
       "      <td>1</td>\n",
       "      <td>0.00000</td>\n",
       "    </tr>\n",
       "    <tr>\n",
       "      <th>2</th>\n",
       "      <td>6640.0</td>\n",
       "      <td>CA</td>\n",
       "      <td>treatment</td>\n",
       "      <td>17198</td>\n",
       "      <td>Other</td>\n",
       "      <td>220</td>\n",
       "      <td>2977</td>\n",
       "      <td>2017-05-10</td>\n",
       "      <td>8</td>\n",
       "      <td>2</td>\n",
       "      <td>114.09041</td>\n",
       "    </tr>\n",
       "    <tr>\n",
       "      <th>3</th>\n",
       "      <td>4326.0</td>\n",
       "      <td>US</td>\n",
       "      <td>control</td>\n",
       "      <td>5329</td>\n",
       "      <td>Ios</td>\n",
       "      <td>431</td>\n",
       "      <td>1471</td>\n",
       "      <td>2017-05-12</td>\n",
       "      <td>4</td>\n",
       "      <td>0</td>\n",
       "      <td>0.00000</td>\n",
       "    </tr>\n",
       "    <tr>\n",
       "      <th>4</th>\n",
       "      <td>6993.0</td>\n",
       "      <td>US</td>\n",
       "      <td>control</td>\n",
       "      <td>15955</td>\n",
       "      <td>Web</td>\n",
       "      <td>399</td>\n",
       "      <td>1812</td>\n",
       "      <td>2017-05-08</td>\n",
       "      <td>4</td>\n",
       "      <td>2</td>\n",
       "      <td>0.00000</td>\n",
       "    </tr>\n",
       "  </tbody>\n",
       "</table>\n",
       "</div>"
      ],
      "text/plain": [
       "   userid country     groups  deviceid   device  sellerid  itemid        date  \\\n",
       "0  3441.0      US    control     12745      Ios       306    1685  2017-05-09   \n",
       "1  3048.0      GB    control     19244  Android       227    2257  2017-05-09   \n",
       "2  6640.0      CA  treatment     17198    Other       220    2977  2017-05-10   \n",
       "3  4326.0      US    control      5329      Ios       431    1471  2017-05-12   \n",
       "4  6993.0      US    control     15955      Web       399    1812  2017-05-08   \n",
       "\n",
       "   views  clicks    revenue  \n",
       "0      5       1    0.00000  \n",
       "1      3       1    0.00000  \n",
       "2      8       2  114.09041  \n",
       "3      4       0    0.00000  \n",
       "4      4       2    0.00000  "
      ]
     },
     "execution_count": 43,
     "metadata": {},
     "output_type": "execute_result"
    }
   ],
   "source": [
    "# change work directory\n",
    "os.chdir('D:\\\\AB Testing')\n",
    "# read in the dataset\n",
    "dat = pd.read_csv('abtest_example_ctr.csv')\n",
    "# dat.head()\n",
    "dat.head()"
   ]
  },
  {
   "cell_type": "markdown",
   "metadata": {},
   "source": [
    "### 2. Summary of Statistics"
   ]
  },
  {
   "cell_type": "code",
   "execution_count": 44,
   "metadata": {
    "scrolled": true
   },
   "outputs": [
    {
     "name": "stdout",
     "output_type": "stream",
     "text": [
      "Columns are:  ['userid', 'country', 'groups', 'deviceid', 'device', 'sellerid', 'itemid', 'date', 'views', 'clicks', 'revenue']\n",
      "\n",
      "Data contains \n",
      " 22960  rows, and  11  columns\n",
      "\n",
      "Data contains \n",
      " 4  countries \n",
      " 7853  userids \n",
      " 7709 deviceids \n",
      " 401 sellerids \n",
      " 1968 itemids \n",
      " Date started from  2017-05-08  to  2017-05-21  in total lasts  14  days.\n"
     ]
    }
   ],
   "source": [
    "## Summary of statistics\n",
    "print('Columns are: ', list(dat.columns))\n",
    "print()\n",
    "print('Data contains \\n', dat.shape[0], ' rows, and ', dat.shape[1], ' columns')\n",
    "print()\n",
    "print('Data contains \\n', \n",
    "      np.unique(dat['country']).size, ' countries \\n',\n",
    "      np.unique(dat['userid']).size, ' userids \\n',\n",
    "      np.unique(dat['deviceid']).size, 'deviceids \\n',\n",
    "      np.unique(dat['sellerid']).size, 'sellerids \\n',\n",
    "      np.unique(dat['itemid']).size, 'itemids \\n',\n",
    "      'Date started from ', min(dat['date']), ' to ', max(dat['date']), ' in total lasts ', \\\n",
    "      (max(pd.to_datetime(dat['date'])) - min(pd.to_datetime(dat['date']))).days + 1, ' days.')"
   ]
  },
  {
   "cell_type": "code",
   "execution_count": 45,
   "metadata": {},
   "outputs": [
    {
     "data": {
      "text/html": [
       "<div>\n",
       "<style scoped>\n",
       "    .dataframe tbody tr th:only-of-type {\n",
       "        vertical-align: middle;\n",
       "    }\n",
       "\n",
       "    .dataframe tbody tr th {\n",
       "        vertical-align: top;\n",
       "    }\n",
       "\n",
       "    .dataframe thead th {\n",
       "        text-align: right;\n",
       "    }\n",
       "</style>\n",
       "<table border=\"1\" class=\"dataframe\">\n",
       "  <thead>\n",
       "    <tr style=\"text-align: right;\">\n",
       "      <th></th>\n",
       "      <th>userid</th>\n",
       "      <th>country</th>\n",
       "      <th>groups</th>\n",
       "      <th>deviceid</th>\n",
       "      <th>device</th>\n",
       "      <th>sellerid</th>\n",
       "      <th>itemid</th>\n",
       "      <th>date</th>\n",
       "      <th>views</th>\n",
       "      <th>clicks</th>\n",
       "      <th>revenue</th>\n",
       "    </tr>\n",
       "  </thead>\n",
       "  <tbody>\n",
       "    <tr>\n",
       "      <th>count</th>\n",
       "      <td>22685.0</td>\n",
       "      <td>22960</td>\n",
       "      <td>22960</td>\n",
       "      <td>22960.0</td>\n",
       "      <td>22960</td>\n",
       "      <td>22960.0</td>\n",
       "      <td>22960.0</td>\n",
       "      <td>22960</td>\n",
       "      <td>22960.0</td>\n",
       "      <td>22960.0</td>\n",
       "      <td>22960.0</td>\n",
       "    </tr>\n",
       "    <tr>\n",
       "      <th>unique</th>\n",
       "      <td>NaN</td>\n",
       "      <td>4</td>\n",
       "      <td>2</td>\n",
       "      <td>NaN</td>\n",
       "      <td>4</td>\n",
       "      <td>NaN</td>\n",
       "      <td>NaN</td>\n",
       "      <td>14</td>\n",
       "      <td>NaN</td>\n",
       "      <td>NaN</td>\n",
       "      <td>NaN</td>\n",
       "    </tr>\n",
       "    <tr>\n",
       "      <th>top</th>\n",
       "      <td>NaN</td>\n",
       "      <td>US</td>\n",
       "      <td>treatment</td>\n",
       "      <td>NaN</td>\n",
       "      <td>Android</td>\n",
       "      <td>NaN</td>\n",
       "      <td>NaN</td>\n",
       "      <td>2017-05-16</td>\n",
       "      <td>NaN</td>\n",
       "      <td>NaN</td>\n",
       "      <td>NaN</td>\n",
       "    </tr>\n",
       "    <tr>\n",
       "      <th>freq</th>\n",
       "      <td>NaN</td>\n",
       "      <td>9182</td>\n",
       "      <td>11500</td>\n",
       "      <td>NaN</td>\n",
       "      <td>7003</td>\n",
       "      <td>NaN</td>\n",
       "      <td>NaN</td>\n",
       "      <td>1721</td>\n",
       "      <td>NaN</td>\n",
       "      <td>NaN</td>\n",
       "      <td>NaN</td>\n",
       "    </tr>\n",
       "    <tr>\n",
       "      <th>mean</th>\n",
       "      <td>5485.0</td>\n",
       "      <td>NaN</td>\n",
       "      <td>NaN</td>\n",
       "      <td>12566.0</td>\n",
       "      <td>NaN</td>\n",
       "      <td>302.0</td>\n",
       "      <td>1998.0</td>\n",
       "      <td>NaN</td>\n",
       "      <td>6.0</td>\n",
       "      <td>1.0</td>\n",
       "      <td>12.0</td>\n",
       "    </tr>\n",
       "    <tr>\n",
       "      <th>std</th>\n",
       "      <td>2584.0</td>\n",
       "      <td>NaN</td>\n",
       "      <td>NaN</td>\n",
       "      <td>4367.0</td>\n",
       "      <td>NaN</td>\n",
       "      <td>116.0</td>\n",
       "      <td>574.0</td>\n",
       "      <td>NaN</td>\n",
       "      <td>3.0</td>\n",
       "      <td>1.0</td>\n",
       "      <td>38.0</td>\n",
       "    </tr>\n",
       "    <tr>\n",
       "      <th>min</th>\n",
       "      <td>1000.0</td>\n",
       "      <td>NaN</td>\n",
       "      <td>NaN</td>\n",
       "      <td>5000.0</td>\n",
       "      <td>NaN</td>\n",
       "      <td>100.0</td>\n",
       "      <td>1000.0</td>\n",
       "      <td>NaN</td>\n",
       "      <td>0.0</td>\n",
       "      <td>0.0</td>\n",
       "      <td>0.0</td>\n",
       "    </tr>\n",
       "    <tr>\n",
       "      <th>25%</th>\n",
       "      <td>3256.0</td>\n",
       "      <td>NaN</td>\n",
       "      <td>NaN</td>\n",
       "      <td>8758.0</td>\n",
       "      <td>NaN</td>\n",
       "      <td>203.0</td>\n",
       "      <td>1508.0</td>\n",
       "      <td>NaN</td>\n",
       "      <td>4.0</td>\n",
       "      <td>0.0</td>\n",
       "      <td>0.0</td>\n",
       "    </tr>\n",
       "    <tr>\n",
       "      <th>50%</th>\n",
       "      <td>5450.0</td>\n",
       "      <td>NaN</td>\n",
       "      <td>NaN</td>\n",
       "      <td>12538.0</td>\n",
       "      <td>NaN</td>\n",
       "      <td>304.0</td>\n",
       "      <td>1994.0</td>\n",
       "      <td>NaN</td>\n",
       "      <td>6.0</td>\n",
       "      <td>1.0</td>\n",
       "      <td>0.0</td>\n",
       "    </tr>\n",
       "    <tr>\n",
       "      <th>75%</th>\n",
       "      <td>7717.0</td>\n",
       "      <td>NaN</td>\n",
       "      <td>NaN</td>\n",
       "      <td>16409.0</td>\n",
       "      <td>NaN</td>\n",
       "      <td>402.0</td>\n",
       "      <td>2497.0</td>\n",
       "      <td>NaN</td>\n",
       "      <td>7.0</td>\n",
       "      <td>2.0</td>\n",
       "      <td>0.0</td>\n",
       "    </tr>\n",
       "    <tr>\n",
       "      <th>max</th>\n",
       "      <td>10000.0</td>\n",
       "      <td>NaN</td>\n",
       "      <td>NaN</td>\n",
       "      <td>20000.0</td>\n",
       "      <td>NaN</td>\n",
       "      <td>500.0</td>\n",
       "      <td>3000.0</td>\n",
       "      <td>NaN</td>\n",
       "      <td>20.0</td>\n",
       "      <td>8.0</td>\n",
       "      <td>1024.0</td>\n",
       "    </tr>\n",
       "  </tbody>\n",
       "</table>\n",
       "</div>"
      ],
      "text/plain": [
       "         userid country     groups  deviceid   device  sellerid   itemid  \\\n",
       "count   22685.0   22960      22960   22960.0    22960   22960.0  22960.0   \n",
       "unique      NaN       4          2       NaN        4       NaN      NaN   \n",
       "top         NaN      US  treatment       NaN  Android       NaN      NaN   \n",
       "freq        NaN    9182      11500       NaN     7003       NaN      NaN   \n",
       "mean     5485.0     NaN        NaN   12566.0      NaN     302.0   1998.0   \n",
       "std      2584.0     NaN        NaN    4367.0      NaN     116.0    574.0   \n",
       "min      1000.0     NaN        NaN    5000.0      NaN     100.0   1000.0   \n",
       "25%      3256.0     NaN        NaN    8758.0      NaN     203.0   1508.0   \n",
       "50%      5450.0     NaN        NaN   12538.0      NaN     304.0   1994.0   \n",
       "75%      7717.0     NaN        NaN   16409.0      NaN     402.0   2497.0   \n",
       "max     10000.0     NaN        NaN   20000.0      NaN     500.0   3000.0   \n",
       "\n",
       "              date    views   clicks  revenue  \n",
       "count        22960  22960.0  22960.0  22960.0  \n",
       "unique          14      NaN      NaN      NaN  \n",
       "top     2017-05-16      NaN      NaN      NaN  \n",
       "freq          1721      NaN      NaN      NaN  \n",
       "mean           NaN      6.0      1.0     12.0  \n",
       "std            NaN      3.0      1.0     38.0  \n",
       "min            NaN      0.0      0.0      0.0  \n",
       "25%            NaN      4.0      0.0      0.0  \n",
       "50%            NaN      6.0      1.0      0.0  \n",
       "75%            NaN      7.0      2.0      0.0  \n",
       "max            NaN     20.0      8.0   1024.0  "
      ]
     },
     "execution_count": 45,
     "metadata": {},
     "output_type": "execute_result"
    }
   ],
   "source": [
    "# Describe the dataset\n",
    "np.round(dat.describe(include = 'all'))"
   ]
  },
  {
   "cell_type": "markdown",
   "metadata": {},
   "source": [
    "### 3. Data Sanity Check"
   ]
  },
  {
   "cell_type": "markdown",
   "metadata": {},
   "source": [
    "**Data Exploration**\n",
    "\n",
    "* __Check for % of test/control units. Is the % matching DOE?__\n",
    "    * If not match, need to figure out what's the cause? - inbalanced assignment needs to meet expectation;\n",
    "* __Check for miexed assignment__\n",
    "    * It's hard to solve. If # of mixed samples is small, OK to remove. If big, need to figure out what's the cause; \n",
    "    * What's the problem of throwing away mixed samples?\n",
    "        * Because mixed assigned user might be highly active users; \n",
    "        * If we remove them all, we potentially fail to understand the active users in our product;\n",
    "        * A good workaround is, if the user is in both groups, we throw all the records of him to test group;\n",
    "        * It potentially dilutes the test group and weakenes the test effect. -> a conservative method. \n",
    "* __Sanity Check__\n",
    "    * Are test/control similar in other factors other than treatment?"
   ]
  },
  {
   "cell_type": "markdown",
   "metadata": {},
   "source": [
    "As this experiment focuses on users' click through rate and total revenue, userid will be the assignment unit of this experiment."
   ]
  },
  {
   "cell_type": "code",
   "execution_count": 46,
   "metadata": {},
   "outputs": [
    {
     "name": "stdout",
     "output_type": "stream",
     "text": [
      "# of misssing userids:  275\n",
      "Prop of # missing userid records:  0.011977351916376307\n"
     ]
    }
   ],
   "source": [
    "# Check missing values of userid\n",
    "print('# of misssing userids: ', dat['userid'].isnull().sum())\n",
    "print('Prop of # missing userid records: ', dat['userid'].isnull().sum()/dat.shape[0]) # less than 1.2%"
   ]
  },
  {
   "cell_type": "code",
   "execution_count": 47,
   "metadata": {},
   "outputs": [
    {
     "data": {
      "text/plain": [
       "43"
      ]
     },
     "execution_count": 47,
     "metadata": {},
     "output_type": "execute_result"
    }
   ],
   "source": [
    "# Check for mixed assignment\n",
    "# Mixed assignment: same users has been assigned to both control and treatment  \n",
    "\n",
    "# Here I will be using sql ... for fun\n",
    "#sql_code = \"\"\"\n",
    "#SELECT DISTINCT userid FROM dat WHERE groups = 'treatment'\n",
    "#INTERSECT\n",
    "#SELECT DISTINCT userid FROM dat WHERE groups = 'control';\n",
    "#\"\"\"\n",
    "#pysqldf = lambda q: ps.sqldf(q, globals())\n",
    "#mixAssign = ps.sqldf(sql_code)\n",
    "\n",
    "mixAssign = set(dat.loc[dat.groups == 'control', 'userid']) & set(dat.loc[dat.groups == 'treatment', 'userid'])\n",
    "len(mixAssign)"
   ]
  },
  {
   "cell_type": "code",
   "execution_count": 48,
   "metadata": {},
   "outputs": [
    {
     "data": {
      "text/plain": [
       "136"
      ]
     },
     "execution_count": 48,
     "metadata": {},
     "output_type": "execute_result"
    }
   ],
   "source": [
    "# Check for multiple-user per device\n",
    "mulUser = dat.groupby('deviceid')['userid'].nunique() #  number of unique elements in the object. exclude NA by default\n",
    "mulUser = set(mulUser[mulUser>1].index)\n",
    "len(mulUser)"
   ]
  },
  {
   "cell_type": "code",
   "execution_count": 49,
   "metadata": {},
   "outputs": [
    {
     "data": {
      "text/plain": [
       "175"
      ]
     },
     "execution_count": 49,
     "metadata": {},
     "output_type": "execute_result"
    }
   ],
   "source": [
    "# Check for multiple-device per user\n",
    "mulDev = dat.groupby('userid')['deviceid'].nunique()\n",
    "mulDev = set(mulDev[mulDev>1].index)\n",
    "len(mulDev)"
   ]
  },
  {
   "cell_type": "code",
   "execution_count": 50,
   "metadata": {},
   "outputs": [
    {
     "data": {
      "text/plain": [
       "1823"
      ]
     },
     "execution_count": 50,
     "metadata": {},
     "output_type": "execute_result"
    }
   ],
   "source": [
    "# Check if NA/mixed/multiple-device/multiple-user is random\n",
    "# Create dummy, if any problem 1, else 0.\n",
    "dat['Deficit'] = dat.apply(lambda x: int((x['userid'] in mixAssign|mulDev) | np.isnan(x['userid']) | (x['deviceid'] in mulUser)), axis = 1)\n",
    "dat['Deficit'].sum()"
   ]
  },
  {
   "cell_type": "markdown",
   "metadata": {},
   "source": [
    "For simplicity, we run a simple logistic regression model as there are not many covariates. And check the p-value of each variables to see if the missing is associate with specific country/groups/device/date/views/clicks/revenue.\n",
    "\n",
    "But in the first place, to use sklearn, we need to 'dummy' those variables\n"
   ]
  },
  {
   "cell_type": "code",
   "execution_count": 51,
   "metadata": {},
   "outputs": [
    {
     "data": {
      "text/html": [
       "<div>\n",
       "<style scoped>\n",
       "    .dataframe tbody tr th:only-of-type {\n",
       "        vertical-align: middle;\n",
       "    }\n",
       "\n",
       "    .dataframe tbody tr th {\n",
       "        vertical-align: top;\n",
       "    }\n",
       "\n",
       "    .dataframe thead th {\n",
       "        text-align: right;\n",
       "    }\n",
       "</style>\n",
       "<table border=\"1\" class=\"dataframe\">\n",
       "  <thead>\n",
       "    <tr style=\"text-align: right;\">\n",
       "      <th></th>\n",
       "      <th>views</th>\n",
       "      <th>clicks</th>\n",
       "      <th>revenue</th>\n",
       "      <th>Deficit</th>\n",
       "      <th>country_CN</th>\n",
       "      <th>country_GB</th>\n",
       "      <th>country_US</th>\n",
       "      <th>groups_treatment</th>\n",
       "      <th>device_Ios</th>\n",
       "      <th>device_Other</th>\n",
       "      <th>...</th>\n",
       "      <th>date_2017-05-12</th>\n",
       "      <th>date_2017-05-13</th>\n",
       "      <th>date_2017-05-14</th>\n",
       "      <th>date_2017-05-15</th>\n",
       "      <th>date_2017-05-16</th>\n",
       "      <th>date_2017-05-17</th>\n",
       "      <th>date_2017-05-18</th>\n",
       "      <th>date_2017-05-19</th>\n",
       "      <th>date_2017-05-20</th>\n",
       "      <th>date_2017-05-21</th>\n",
       "    </tr>\n",
       "  </thead>\n",
       "  <tbody>\n",
       "    <tr>\n",
       "      <th>0</th>\n",
       "      <td>5</td>\n",
       "      <td>1</td>\n",
       "      <td>0.00000</td>\n",
       "      <td>0</td>\n",
       "      <td>0</td>\n",
       "      <td>0</td>\n",
       "      <td>1</td>\n",
       "      <td>0</td>\n",
       "      <td>1</td>\n",
       "      <td>0</td>\n",
       "      <td>...</td>\n",
       "      <td>0</td>\n",
       "      <td>0</td>\n",
       "      <td>0</td>\n",
       "      <td>0</td>\n",
       "      <td>0</td>\n",
       "      <td>0</td>\n",
       "      <td>0</td>\n",
       "      <td>0</td>\n",
       "      <td>0</td>\n",
       "      <td>0</td>\n",
       "    </tr>\n",
       "    <tr>\n",
       "      <th>1</th>\n",
       "      <td>3</td>\n",
       "      <td>1</td>\n",
       "      <td>0.00000</td>\n",
       "      <td>0</td>\n",
       "      <td>0</td>\n",
       "      <td>1</td>\n",
       "      <td>0</td>\n",
       "      <td>0</td>\n",
       "      <td>0</td>\n",
       "      <td>0</td>\n",
       "      <td>...</td>\n",
       "      <td>0</td>\n",
       "      <td>0</td>\n",
       "      <td>0</td>\n",
       "      <td>0</td>\n",
       "      <td>0</td>\n",
       "      <td>0</td>\n",
       "      <td>0</td>\n",
       "      <td>0</td>\n",
       "      <td>0</td>\n",
       "      <td>0</td>\n",
       "    </tr>\n",
       "    <tr>\n",
       "      <th>2</th>\n",
       "      <td>8</td>\n",
       "      <td>2</td>\n",
       "      <td>114.09041</td>\n",
       "      <td>0</td>\n",
       "      <td>0</td>\n",
       "      <td>0</td>\n",
       "      <td>0</td>\n",
       "      <td>1</td>\n",
       "      <td>0</td>\n",
       "      <td>1</td>\n",
       "      <td>...</td>\n",
       "      <td>0</td>\n",
       "      <td>0</td>\n",
       "      <td>0</td>\n",
       "      <td>0</td>\n",
       "      <td>0</td>\n",
       "      <td>0</td>\n",
       "      <td>0</td>\n",
       "      <td>0</td>\n",
       "      <td>0</td>\n",
       "      <td>0</td>\n",
       "    </tr>\n",
       "    <tr>\n",
       "      <th>3</th>\n",
       "      <td>4</td>\n",
       "      <td>0</td>\n",
       "      <td>0.00000</td>\n",
       "      <td>0</td>\n",
       "      <td>0</td>\n",
       "      <td>0</td>\n",
       "      <td>1</td>\n",
       "      <td>0</td>\n",
       "      <td>1</td>\n",
       "      <td>0</td>\n",
       "      <td>...</td>\n",
       "      <td>1</td>\n",
       "      <td>0</td>\n",
       "      <td>0</td>\n",
       "      <td>0</td>\n",
       "      <td>0</td>\n",
       "      <td>0</td>\n",
       "      <td>0</td>\n",
       "      <td>0</td>\n",
       "      <td>0</td>\n",
       "      <td>0</td>\n",
       "    </tr>\n",
       "    <tr>\n",
       "      <th>4</th>\n",
       "      <td>4</td>\n",
       "      <td>2</td>\n",
       "      <td>0.00000</td>\n",
       "      <td>0</td>\n",
       "      <td>0</td>\n",
       "      <td>0</td>\n",
       "      <td>1</td>\n",
       "      <td>0</td>\n",
       "      <td>0</td>\n",
       "      <td>0</td>\n",
       "      <td>...</td>\n",
       "      <td>0</td>\n",
       "      <td>0</td>\n",
       "      <td>0</td>\n",
       "      <td>0</td>\n",
       "      <td>0</td>\n",
       "      <td>0</td>\n",
       "      <td>0</td>\n",
       "      <td>0</td>\n",
       "      <td>0</td>\n",
       "      <td>0</td>\n",
       "    </tr>\n",
       "  </tbody>\n",
       "</table>\n",
       "<p>5 rows × 24 columns</p>\n",
       "</div>"
      ],
      "text/plain": [
       "   views  clicks    revenue  Deficit  country_CN  country_GB  country_US  \\\n",
       "0      5       1    0.00000        0           0           0           1   \n",
       "1      3       1    0.00000        0           0           1           0   \n",
       "2      8       2  114.09041        0           0           0           0   \n",
       "3      4       0    0.00000        0           0           0           1   \n",
       "4      4       2    0.00000        0           0           0           1   \n",
       "\n",
       "   groups_treatment  device_Ios  device_Other       ...         \\\n",
       "0                 0           1             0       ...          \n",
       "1                 0           0             0       ...          \n",
       "2                 1           0             1       ...          \n",
       "3                 0           1             0       ...          \n",
       "4                 0           0             0       ...          \n",
       "\n",
       "   date_2017-05-12  date_2017-05-13  date_2017-05-14  date_2017-05-15  \\\n",
       "0                0                0                0                0   \n",
       "1                0                0                0                0   \n",
       "2                0                0                0                0   \n",
       "3                1                0                0                0   \n",
       "4                0                0                0                0   \n",
       "\n",
       "   date_2017-05-16  date_2017-05-17  date_2017-05-18  date_2017-05-19  \\\n",
       "0                0                0                0                0   \n",
       "1                0                0                0                0   \n",
       "2                0                0                0                0   \n",
       "3                0                0                0                0   \n",
       "4                0                0                0                0   \n",
       "\n",
       "   date_2017-05-20  date_2017-05-21  \n",
       "0                0                0  \n",
       "1                0                0  \n",
       "2                0                0  \n",
       "3                0                0  \n",
       "4                0                0  \n",
       "\n",
       "[5 rows x 24 columns]"
      ]
     },
     "execution_count": 51,
     "metadata": {},
     "output_type": "execute_result"
    }
   ],
   "source": [
    "# Create dummy variables\n",
    "datCheck = dat.copy()\n",
    "datCheck = pd.get_dummies(datCheck[['country', 'groups', 'device', 'date', 'views', 'clicks', 'revenue', 'Deficit']])\n",
    "datCheck.drop(columns = ['country_CA', 'groups_control', 'date_2017-05-08', 'device_Android'], inplace = True)\n",
    "datCheck.head()"
   ]
  },
  {
   "cell_type": "code",
   "execution_count": 52,
   "metadata": {},
   "outputs": [
    {
     "data": {
      "text/plain": [
       "LogisticRegression(C=1000000.0, class_weight=None, dual=False,\n",
       "          fit_intercept=True, intercept_scaling=1, max_iter=100,\n",
       "          multi_class='ovr', n_jobs=1, penalty='l2', random_state=0,\n",
       "          solver='liblinear', tol=0.0001, verbose=0, warm_start=False)"
      ]
     },
     "execution_count": 52,
     "metadata": {},
     "output_type": "execute_result"
    }
   ],
   "source": [
    "# Run a simple logistic regression\n",
    "from sklearn.linear_model import LogisticRegression\n",
    "lr = LogisticRegression(random_state=0, C=1e6) # lower C means higher penalty, use convention in SVM\n",
    "lr.fit(datCheck.loc[:,datCheck.columns!='Deficit'], datCheck['Deficit'])"
   ]
  },
  {
   "cell_type": "code",
   "execution_count": 53,
   "metadata": {},
   "outputs": [
    {
     "name": "stdout",
     "output_type": "stream",
     "text": [
      "intercept:  [-2.44275683]\n"
     ]
    },
    {
     "data": {
      "text/plain": [
       "{'views': 0.003676205223950213,\n",
       " 'clicks': -0.032457761797823496,\n",
       " 'revenue': 0.0002996713985630129,\n",
       " 'country_CN': -0.12864775250729915,\n",
       " 'country_GB': -0.15981963077922479,\n",
       " 'country_US': -0.09787344286589661,\n",
       " 'groups_treatment': -0.028145905795962302,\n",
       " 'device_Ios': 0.13190803322761677,\n",
       " 'device_Other': 0.18063270969294815,\n",
       " 'device_Web': 0.11274798162673037,\n",
       " 'date_2017-05-09': -0.09359675762579389,\n",
       " 'date_2017-05-10': -0.027372523582008923,\n",
       " 'date_2017-05-11': 0.028565325749638566,\n",
       " 'date_2017-05-12': 0.09078756077920669,\n",
       " 'date_2017-05-13': 0.0347781267873893,\n",
       " 'date_2017-05-14': 0.2117121449867692,\n",
       " 'date_2017-05-15': -0.0975895380608316,\n",
       " 'date_2017-05-16': -0.006356662512770055,\n",
       " 'date_2017-05-17': 0.03814663794821731,\n",
       " 'date_2017-05-18': -0.024250236173639826,\n",
       " 'date_2017-05-19': 0.049119346515590384,\n",
       " 'date_2017-05-20': 0.03767493806071268,\n",
       " 'date_2017-05-21': -0.03397509740435897}"
      ]
     },
     "execution_count": 53,
     "metadata": {},
     "output_type": "execute_result"
    }
   ],
   "source": [
    "# Check the attributes\n",
    "print('intercept: ', lr.intercept_)\n",
    "dict(zip(datCheck.columns[datCheck.columns!='Deficit'], lr.coef_[0]))\n",
    "\n",
    "# Note:\n",
    "# sklearn doesn't provide built-in P-value and other statistical calculation "
   ]
  },
  {
   "cell_type": "code",
   "execution_count": 54,
   "metadata": {},
   "outputs": [
    {
     "name": "stdout",
     "output_type": "stream",
     "text": [
      "Optimization terminated successfully.\n",
      "         Current function value: 0.276770\n",
      "         Iterations 7\n"
     ]
    },
    {
     "data": {
      "text/html": [
       "<table class=\"simpletable\">\n",
       "<caption>Logit Regression Results</caption>\n",
       "<tr>\n",
       "  <th>Dep. Variable:</th>      <td>Deficit</td>     <th>  No. Observations:  </th>  <td> 22960</td> \n",
       "</tr>\n",
       "<tr>\n",
       "  <th>Model:</th>               <td>Logit</td>      <th>  Df Residuals:      </th>  <td> 22936</td> \n",
       "</tr>\n",
       "<tr>\n",
       "  <th>Method:</th>               <td>MLE</td>       <th>  Df Model:          </th>  <td>    23</td> \n",
       "</tr>\n",
       "<tr>\n",
       "  <th>Date:</th>          <td>Wed, 08 Aug 2018</td> <th>  Pseudo R-squ.:     </th> <td>0.001908</td>\n",
       "</tr>\n",
       "<tr>\n",
       "  <th>Time:</th>              <td>18:19:17</td>     <th>  Log-Likelihood:    </th> <td> -6354.6</td>\n",
       "</tr>\n",
       "<tr>\n",
       "  <th>converged:</th>           <td>True</td>       <th>  LL-Null:           </th> <td> -6366.8</td>\n",
       "</tr>\n",
       "<tr>\n",
       "  <th> </th>                      <td> </td>        <th>  LLR p-value:       </th>  <td>0.3874</td> \n",
       "</tr>\n",
       "</table>\n",
       "<table class=\"simpletable\">\n",
       "<tr>\n",
       "          <td></td>            <th>coef</th>     <th>std err</th>      <th>z</th>      <th>P>|z|</th>  <th>[0.025</th>    <th>0.975]</th>  \n",
       "</tr>\n",
       "<tr>\n",
       "  <th>views</th>            <td>    0.0037</td> <td>    0.011</td> <td>    0.326</td> <td> 0.745</td> <td>   -0.019</td> <td>    0.026</td>\n",
       "</tr>\n",
       "<tr>\n",
       "  <th>clicks</th>           <td>   -0.0325</td> <td>    0.027</td> <td>   -1.225</td> <td> 0.221</td> <td>   -0.084</td> <td>    0.019</td>\n",
       "</tr>\n",
       "<tr>\n",
       "  <th>revenue</th>          <td>    0.0003</td> <td>    0.001</td> <td>    0.456</td> <td> 0.648</td> <td>   -0.001</td> <td>    0.002</td>\n",
       "</tr>\n",
       "<tr>\n",
       "  <th>country_CN</th>       <td>   -0.1284</td> <td>    0.076</td> <td>   -1.679</td> <td> 0.093</td> <td>   -0.278</td> <td>    0.021</td>\n",
       "</tr>\n",
       "<tr>\n",
       "  <th>country_GB</th>       <td>   -0.1596</td> <td>    0.077</td> <td>   -2.079</td> <td> 0.038</td> <td>   -0.310</td> <td>   -0.009</td>\n",
       "</tr>\n",
       "<tr>\n",
       "  <th>country_US</th>       <td>   -0.0977</td> <td>    0.065</td> <td>   -1.497</td> <td> 0.134</td> <td>   -0.226</td> <td>    0.030</td>\n",
       "</tr>\n",
       "<tr>\n",
       "  <th>groups_treatment</th> <td>   -0.0280</td> <td>    0.049</td> <td>   -0.574</td> <td> 0.566</td> <td>   -0.124</td> <td>    0.068</td>\n",
       "</tr>\n",
       "<tr>\n",
       "  <th>device_Ios</th>       <td>    0.1320</td> <td>    0.071</td> <td>    1.859</td> <td> 0.063</td> <td>   -0.007</td> <td>    0.271</td>\n",
       "</tr>\n",
       "<tr>\n",
       "  <th>device_Other</th>     <td>    0.1807</td> <td>    0.070</td> <td>    2.599</td> <td> 0.009</td> <td>    0.044</td> <td>    0.317</td>\n",
       "</tr>\n",
       "<tr>\n",
       "  <th>device_Web</th>       <td>    0.1129</td> <td>    0.065</td> <td>    1.748</td> <td> 0.080</td> <td>   -0.014</td> <td>    0.239</td>\n",
       "</tr>\n",
       "<tr>\n",
       "  <th>date_2017-05-09</th>  <td>   -0.0935</td> <td>    0.134</td> <td>   -0.696</td> <td> 0.487</td> <td>   -0.357</td> <td>    0.170</td>\n",
       "</tr>\n",
       "<tr>\n",
       "  <th>date_2017-05-10</th>  <td>   -0.0273</td> <td>    0.133</td> <td>   -0.206</td> <td> 0.837</td> <td>   -0.288</td> <td>    0.233</td>\n",
       "</tr>\n",
       "<tr>\n",
       "  <th>date_2017-05-11</th>  <td>    0.0286</td> <td>    0.131</td> <td>    0.218</td> <td> 0.828</td> <td>   -0.229</td> <td>    0.286</td>\n",
       "</tr>\n",
       "<tr>\n",
       "  <th>date_2017-05-12</th>  <td>    0.0908</td> <td>    0.130</td> <td>    0.701</td> <td> 0.483</td> <td>   -0.163</td> <td>    0.345</td>\n",
       "</tr>\n",
       "<tr>\n",
       "  <th>date_2017-05-13</th>  <td>    0.0348</td> <td>    0.130</td> <td>    0.267</td> <td> 0.790</td> <td>   -0.221</td> <td>    0.290</td>\n",
       "</tr>\n",
       "<tr>\n",
       "  <th>date_2017-05-14</th>  <td>    0.2119</td> <td>    0.127</td> <td>    1.662</td> <td> 0.096</td> <td>   -0.038</td> <td>    0.462</td>\n",
       "</tr>\n",
       "<tr>\n",
       "  <th>date_2017-05-15</th>  <td>   -0.0975</td> <td>    0.134</td> <td>   -0.729</td> <td> 0.466</td> <td>   -0.360</td> <td>    0.165</td>\n",
       "</tr>\n",
       "<tr>\n",
       "  <th>date_2017-05-16</th>  <td>   -0.0064</td> <td>    0.131</td> <td>   -0.049</td> <td> 0.961</td> <td>   -0.263</td> <td>    0.250</td>\n",
       "</tr>\n",
       "<tr>\n",
       "  <th>date_2017-05-17</th>  <td>    0.0381</td> <td>    0.131</td> <td>    0.292</td> <td> 0.770</td> <td>   -0.218</td> <td>    0.294</td>\n",
       "</tr>\n",
       "<tr>\n",
       "  <th>date_2017-05-18</th>  <td>   -0.0242</td> <td>    0.133</td> <td>   -0.182</td> <td> 0.856</td> <td>   -0.286</td> <td>    0.237</td>\n",
       "</tr>\n",
       "<tr>\n",
       "  <th>date_2017-05-19</th>  <td>    0.0492</td> <td>    0.131</td> <td>    0.375</td> <td> 0.708</td> <td>   -0.208</td> <td>    0.306</td>\n",
       "</tr>\n",
       "<tr>\n",
       "  <th>date_2017-05-20</th>  <td>    0.0377</td> <td>    0.131</td> <td>    0.288</td> <td> 0.774</td> <td>   -0.219</td> <td>    0.295</td>\n",
       "</tr>\n",
       "<tr>\n",
       "  <th>date_2017-05-21</th>  <td>   -0.0339</td> <td>    0.134</td> <td>   -0.253</td> <td> 0.800</td> <td>   -0.297</td> <td>    0.229</td>\n",
       "</tr>\n",
       "<tr>\n",
       "  <th>intercept</th>        <td>   -2.4432</td> <td>    0.130</td> <td>  -18.832</td> <td> 0.000</td> <td>   -2.697</td> <td>   -2.189</td>\n",
       "</tr>\n",
       "</table>"
      ],
      "text/plain": [
       "<class 'statsmodels.iolib.summary.Summary'>\n",
       "\"\"\"\n",
       "                           Logit Regression Results                           \n",
       "==============================================================================\n",
       "Dep. Variable:                Deficit   No. Observations:                22960\n",
       "Model:                          Logit   Df Residuals:                    22936\n",
       "Method:                           MLE   Df Model:                           23\n",
       "Date:                Wed, 08 Aug 2018   Pseudo R-squ.:                0.001908\n",
       "Time:                        18:19:17   Log-Likelihood:                -6354.6\n",
       "converged:                       True   LL-Null:                       -6366.8\n",
       "                                        LLR p-value:                    0.3874\n",
       "====================================================================================\n",
       "                       coef    std err          z      P>|z|      [0.025      0.975]\n",
       "------------------------------------------------------------------------------------\n",
       "views                0.0037      0.011      0.326      0.745      -0.019       0.026\n",
       "clicks              -0.0325      0.027     -1.225      0.221      -0.084       0.019\n",
       "revenue              0.0003      0.001      0.456      0.648      -0.001       0.002\n",
       "country_CN          -0.1284      0.076     -1.679      0.093      -0.278       0.021\n",
       "country_GB          -0.1596      0.077     -2.079      0.038      -0.310      -0.009\n",
       "country_US          -0.0977      0.065     -1.497      0.134      -0.226       0.030\n",
       "groups_treatment    -0.0280      0.049     -0.574      0.566      -0.124       0.068\n",
       "device_Ios           0.1320      0.071      1.859      0.063      -0.007       0.271\n",
       "device_Other         0.1807      0.070      2.599      0.009       0.044       0.317\n",
       "device_Web           0.1129      0.065      1.748      0.080      -0.014       0.239\n",
       "date_2017-05-09     -0.0935      0.134     -0.696      0.487      -0.357       0.170\n",
       "date_2017-05-10     -0.0273      0.133     -0.206      0.837      -0.288       0.233\n",
       "date_2017-05-11      0.0286      0.131      0.218      0.828      -0.229       0.286\n",
       "date_2017-05-12      0.0908      0.130      0.701      0.483      -0.163       0.345\n",
       "date_2017-05-13      0.0348      0.130      0.267      0.790      -0.221       0.290\n",
       "date_2017-05-14      0.2119      0.127      1.662      0.096      -0.038       0.462\n",
       "date_2017-05-15     -0.0975      0.134     -0.729      0.466      -0.360       0.165\n",
       "date_2017-05-16     -0.0064      0.131     -0.049      0.961      -0.263       0.250\n",
       "date_2017-05-17      0.0381      0.131      0.292      0.770      -0.218       0.294\n",
       "date_2017-05-18     -0.0242      0.133     -0.182      0.856      -0.286       0.237\n",
       "date_2017-05-19      0.0492      0.131      0.375      0.708      -0.208       0.306\n",
       "date_2017-05-20      0.0377      0.131      0.288      0.774      -0.219       0.295\n",
       "date_2017-05-21     -0.0339      0.134     -0.253      0.800      -0.297       0.229\n",
       "intercept           -2.4432      0.130    -18.832      0.000      -2.697      -2.189\n",
       "====================================================================================\n",
       "\"\"\""
      ]
     },
     "execution_count": 54,
     "metadata": {},
     "output_type": "execute_result"
    }
   ],
   "source": [
    "# Alternative logistic regression packages/api\n",
    "# use statsmodels.api to get the P-value\n",
    "import statsmodels.api as sm\n",
    "datCheck['intercept'] = 1 # Note, if we don't have the intercept, statsmodels will by default has not intercept\n",
    "model = sm.Logit(datCheck['Deficit'], datCheck.loc[:,datCheck.columns!='Deficit'])\n",
    "result = model.fit()\n",
    "result.summary()\n",
    "# if we have P-value, we should be able to know that country_GB and device_Other are significant in the logistic regression.\n",
    "# we can dive deep to see what happens there."
   ]
  },
  {
   "cell_type": "markdown",
   "metadata": {},
   "source": [
    "*Very Important*: we can see the coefficient lines up with the previous one.\n",
    "\n",
    "Let's compare three ways of logistic regression calculation:\n",
    "* R: no need to create dummy and has statistics. use code: \"m = glm(y ~ x1 + x2 + ... + x3, data, family = 'binomial') \\n summary(m)\"\n",
    "* sklearn: needs to create dummy variables; no p-value & other statistics.\n",
    "* statsmodels.api: needs to create dummy variables and need to specify 'intercept', otherwise intercept is not there by default."
   ]
  },
  {
   "cell_type": "code",
   "execution_count": 55,
   "metadata": {},
   "outputs": [
    {
     "name": "stdout",
     "output_type": "stream",
     "text": [
      "device\n",
      "Android    0.013708\n",
      "Ios        0.008946\n",
      "Other      0.009752\n",
      "Web        0.013820\n",
      "Name: nullUser, dtype: float64\n",
      "device\n",
      "Android    0.004998\n",
      "Ios        0.004582\n",
      "Other      0.007632\n",
      "Web        0.008863\n",
      "Name: mixAssign, dtype: float64\n",
      "device\n",
      "Android    0.029702\n",
      "Ios        0.037530\n",
      "Other      0.043884\n",
      "Web        0.029743\n",
      "Name: mulUser, dtype: float64\n",
      "device\n",
      "Android    0.038983\n",
      "Ios        0.050185\n",
      "Other      0.045792\n",
      "Web        0.044765\n",
      "Name: mulDev, dtype: float64\n"
     ]
    }
   ],
   "source": [
    "# Example: Dive deep into device_other (similar analysis could be applied on Country_GB)\n",
    "# since the device_other has a significant effect, let dive deep into this\n",
    "dat['nullUser'] = dat['userid'].isnull()*1\n",
    "dat['mixAssign'] = dat['userid'].apply(lambda x: int(x in mixAssign))\n",
    "dat['mulUser'] = dat['deviceid'].apply(lambda x: int(x in mulUser))\n",
    "dat['mulDev'] = dat['userid'].apply(lambda x: int(x in mulDev))\n",
    "# sum(np.sum(dat[['nullUser','mixAssign','mulUser','mulDev']],axis=1)>=1) # 1823 Checked!\n",
    "print(dat.groupby('device')['nullUser'].mean())\n",
    "print(dat.groupby('device')['mixAssign'].mean())\n",
    "print(dat.groupby('device')['mulUser'].mean()) # higher multiple user percent - is it expected? bug? talk to engineers.\n",
    "print(dat.groupby('device')['mulDev'].mean())"
   ]
  },
  {
   "cell_type": "code",
   "execution_count": 56,
   "metadata": {},
   "outputs": [
    {
     "data": {
      "image/png": "[encoded data removed]",
      "text/plain": [
       "<Figure size 432x288 with 1 Axes>"
      ]
     },
     "metadata": {},
     "output_type": "display_data"
    }
   ],
   "source": [
    "# Also, we can do some viz of key metrics:\n",
    "# help define whether problematics records are caused by some specific problems (channel, engineering...)\n",
    "# key metrics: views, clicks, click-through-rate\n",
    "import matplotlib.pyplot as plt\n",
    "plt.boxplot([dat['views'][dat['nullUser']==0], dat['views'][dat['nullUser']==1]])\n",
    "plt.xticks([1,2],('No Missing','Missing'), rotation=15)\n",
    "plt.ylabel('Views')\n",
    "plt.title('Boxplot of views on nullUser')\n",
    "plt.show()\n",
    "# 'nullUser' could be replaced by ['mixAssign', 'mulUser', 'mulDev']\n",
    "# 'views' could be replaced by 'clicks'"
   ]
  },
  {
   "cell_type": "code",
   "execution_count": 57,
   "metadata": {},
   "outputs": [
    {
     "data": {
      "text/plain": [
       "(21137, 16)"
      ]
     },
     "execution_count": 57,
     "metadata": {},
     "output_type": "execute_result"
    }
   ],
   "source": [
    "# In this case, we throw away all problematic assignments for simplicity.\n",
    "dat = dat.loc[dat['Deficit']!=1,:]\n",
    "dat.shape"
   ]
  },
  {
   "cell_type": "markdown",
   "metadata": {},
   "source": [
    "__For simplicity, we throw away all the problematic assignments in this case. In reality, do not do this by default. Need to go through details within groups and check carefully.__"
   ]
  },
  {
   "cell_type": "code",
   "execution_count": 58,
   "metadata": {},
   "outputs": [
    {
     "data": {
      "text/plain": [
       "(4487, 16)"
      ]
     },
     "execution_count": 58,
     "metadata": {},
     "output_type": "execute_result"
    }
   ],
   "source": [
    "# Sanity check on filtered data \n",
    "# Check whether metrics are comparable before experiment (if there has difference betwen control and treatment)\n",
    "# Day 1 - 3 (before experiment)\n",
    "dat['date'] = pd.to_datetime(dat['date'])\n",
    "experiment_date = min(dat['date'])+datetime.timedelta(days=3)\n",
    "dat_bef = dat.loc[dat['date']<experiment_date,:]\n",
    "dat_bef.shape"
   ]
  },
  {
   "cell_type": "code",
   "execution_count": 59,
   "metadata": {
    "scrolled": true
   },
   "outputs": [
    {
     "name": "stdout",
     "output_type": "stream",
     "text": [
      "2359 2367 11900 11919\n"
     ]
    },
    {
     "data": {
      "text/plain": [
       "(0.00275424098602548,\n",
       " 0.958145543396146,\n",
       " 1,\n",
       " array([[2361.1150762, 2364.8849238],\n",
       "        [9538.8849238, 9554.1150762]]))"
      ]
     },
     "execution_count": 59,
     "metadata": {},
     "output_type": "execute_result"
    }
   ],
   "source": [
    "# aggregated CTR between treament/control before experiment start\n",
    "x1 = dat_bef.loc[dat_bef['groups']=='control', 'clicks'].sum()\n",
    "x2 = dat_bef.loc[dat_bef['groups']=='treatment', 'clicks'].sum()\n",
    "n1 = dat_bef.loc[dat_bef['groups']=='control', 'views'].sum()\n",
    "n2 = dat_bef.loc[dat_bef['groups']=='treatment', 'views'].sum()\n",
    "print(x1, x2, n1, n2)\n",
    "# 2-sample test for equality of proportions with continuity correction\n",
    "# (x1, x2) out of (n1, n2), two-sides hypothesis test\n",
    "# Attention on the API:\n",
    "# the first argument is 'observed' : array_like, contingency table\n",
    "# It takes in the observed values: np.array([[success1, success2], [failure1, failure2]]) \n",
    "scipy.stats.chi2_contingency(np.array([[x1,x2], [n1-x1, n2-x2]]), correction = True)\n",
    "#(0.00275424098602548, -> chi-squared\n",
    "# 0.958145543396146, -> P value -> the change is not significant on the global scale, we can dive deep to check!\n",
    "# 1, -> Degrees of freedom\n",
    "# array([[2361.1150762, 2364.8849238], -> expected \n",
    "#        [9538.8849238, 9554.1150762]]))"
   ]
  },
  {
   "cell_type": "markdown",
   "metadata": {},
   "source": [
    "__We can conclude with 95% confidence that CTR is comparable before the experiment.__"
   ]
  },
  {
   "cell_type": "markdown",
   "metadata": {},
   "source": [
    "__The peer function in R is prop.test__ <br>\n",
    "Below are three same chi-square: <br>\n",
    "__x1__: # of success in group 1 <br>\n",
    "__x2__: # of success in group 2 <br>\n",
    "__n1__: # of experiments in group 1 <br>\n",
    "__n2__: # of experiments in group 2 <br>\n",
    "__(1) R__: prop.test(x=c(x1, x2), n=c(n1, n2), alternative='two.sided') <br>\n",
    "__(2) R__: prop.test(matrix(c(n1-x1,n2-x2,x1,x2), ncol=2), alternative = 'two.sided') <br>\n",
    "__(3) Python__: scipy.stats.chi2_contingency(np.array([[x1,x2], [n1-x1, n2-x2]]), correction = True) <br>\n"
   ]
  },
  {
   "cell_type": "code",
   "execution_count": 60,
   "metadata": {},
   "outputs": [
    {
     "data": {
      "text/plain": [
       "groups     device \n",
       "control    Android    0.308344\n",
       "           Ios        0.203927\n",
       "           Other      0.201696\n",
       "           Web        0.286033\n",
       "treatment  Android    0.317453\n",
       "           Ios        0.197685\n",
       "           Other      0.206589\n",
       "           Web        0.278272\n",
       "Name: device, dtype: float64"
      ]
     },
     "execution_count": 60,
     "metadata": {},
     "output_type": "execute_result"
    }
   ],
   "source": [
    "# compare other fields -> for example, device\n",
    "dat_bef.groupby(['groups', 'device'])['device'].count().groupby(level=0).apply(lambda x: x / x.sum()) # no dramatic diff"
   ]
  },
  {
   "cell_type": "code",
   "execution_count": 61,
   "metadata": {},
   "outputs": [
    {
     "data": {
      "text/plain": [
       "groups     country\n",
       "control    CA         0.199018\n",
       "           CN         0.192771\n",
       "           GB         0.217314\n",
       "           US         0.390897\n",
       "treatment  CA         0.207035\n",
       "           CN         0.202137\n",
       "           GB         0.197685\n",
       "           US         0.393143\n",
       "Name: country, dtype: float64"
      ]
     },
     "execution_count": 61,
     "metadata": {},
     "output_type": "execute_result"
    }
   ],
   "source": [
    "# compare other fields -> for example, country\n",
    "dat_bef.groupby(['groups', 'country'])['country'].count().groupby(level=0).apply(lambda x: x / x.sum()) # no dramatic diff"
   ]
  },
  {
   "cell_type": "code",
   "execution_count": 62,
   "metadata": {},
   "outputs": [
    {
     "data": {
      "text/plain": [
       "(16650, 16)"
      ]
     },
     "execution_count": 62,
     "metadata": {},
     "output_type": "execute_result"
    }
   ],
   "source": [
    "# Day 4 + (after experiemnt)\n",
    "dat_aft = dat.loc[dat['date']>=experiment_date,:]\n",
    "dat_aft.shape "
   ]
  },
  {
   "cell_type": "markdown",
   "metadata": {},
   "source": [
    "### 4. Hypothesis Testing"
   ]
  },
  {
   "cell_type": "code",
   "execution_count": 63,
   "metadata": {},
   "outputs": [
    {
     "name": "stdout",
     "output_type": "stream",
     "text": [
      "9933 10209 49210 49471\n"
     ]
    },
    {
     "data": {
      "text/plain": [
       "(3.066794164712745,\n",
       " 0.07990690688697542,\n",
       " 1,\n",
       " array([[10044.36335262, 10097.63664738],\n",
       "        [39165.63664738, 39373.36335262]]))"
      ]
     },
     "execution_count": 63,
     "metadata": {},
     "output_type": "execute_result"
    }
   ],
   "source": [
    "# Hypothesis Testing\n",
    "# aggregated CTR between treament/control after experiment start\n",
    "x1 = dat_aft.loc[dat_aft['groups']=='control', 'clicks'].sum()\n",
    "x2 = dat_aft.loc[dat_aft['groups']=='treatment', 'clicks'].sum()\n",
    "n1 = dat_aft.loc[dat_aft['groups']=='control', 'views'].sum()\n",
    "n2 = dat_aft.loc[dat_aft['groups']=='treatment', 'views'].sum()\n",
    "print(x1, x2, n1, n2)\n",
    "# 2-sample test for equality of proportions with continuity correction\n",
    "# (x1, x2) out of (n1, n2), two-sides hypothesis test\n",
    "# Attention on the API:\n",
    "# the first argument is 'observed' : array_like, contingency table\n",
    "# It takes in the observed values: np.array([[success1, success2], [failure1, failure2]]) \n",
    "scipy.stats.chi2_contingency(np.array([[x1,x2], [n1-x1,n2-x2]]), correction = True)\n",
    "#(3.066794164712745, -> chi-squared\n",
    "# 0.07990690688697542, -> P value -> the change is not significant on the global scale, we can dive deep to check!\n",
    "# 1, -> Degrees of freedom\n",
    "# array([[10044.36335262, 10097.63664738], -> expected \n",
    "#        [39165.63664738, 39373.36335262]]))"
   ]
  },
  {
   "cell_type": "code",
   "execution_count": 64,
   "metadata": {},
   "outputs": [
    {
     "data": {
      "text/plain": [
       "groups     device \n",
       "control    Android    0.295359\n",
       "           Ios        0.206751\n",
       "           Other      0.202532\n",
       "           Web        0.295359\n",
       "treatment  Android    0.316218\n",
       "           Ios        0.190425\n",
       "           Other      0.205386\n",
       "           Web        0.287971\n",
       "Name: device, dtype: float64"
      ]
     },
     "execution_count": 64,
     "metadata": {},
     "output_type": "execute_result"
    }
   ],
   "source": [
    "# compare other fields -> for example, device\n",
    "dat_aft.groupby(['groups', 'device'])['device'].count().groupby(level=0).apply(lambda x: x / x.sum()) # no dramatic diff"
   ]
  },
  {
   "cell_type": "code",
   "execution_count": 65,
   "metadata": {},
   "outputs": [
    {
     "data": {
      "text/plain": [
       "groups     country\n",
       "control    CA         0.193972\n",
       "           CN         0.203134\n",
       "           GB         0.199638\n",
       "           US         0.403255\n",
       "treatment  CA         0.197965\n",
       "           CN         0.197846\n",
       "           GB         0.203232\n",
       "           US         0.400958\n",
       "Name: country, dtype: float64"
      ]
     },
     "execution_count": 65,
     "metadata": {},
     "output_type": "execute_result"
    }
   ],
   "source": [
    "# compare other fields -> for example, country\n",
    "dat_aft.groupby(['groups', 'country'])['country'].count().groupby(level=0).apply(lambda x: x / x.sum()) # no dramatic diff"
   ]
  },
  {
   "cell_type": "code",
   "execution_count": 66,
   "metadata": {},
   "outputs": [],
   "source": [
    "# dive deep by group level, no longer on global scale\n",
    "def test_by_subgroup(data, col, val):\n",
    "    \"\"\"\n",
    "    type data: pandas dataframe\n",
    "    type col: string\n",
    "    type val: string or number\n",
    "    rtype: tuple of values\n",
    "    \"\"\"\n",
    "    data_use = data.loc[data[col]==val, :]\n",
    "    x1 = data_use.loc[data_use['groups']=='control', 'clicks'].sum()\n",
    "    x2 = data_use.loc[data_use['groups']=='treatment', 'clicks'].sum()\n",
    "    n1 = data_use.loc[data_use['groups']=='control', 'views'].sum()\n",
    "    n2 = data_use.loc[data_use['groups']=='treatment', 'views'].sum()\n",
    "    return(scipy.stats.chi2_contingency(np.array([[x1,x2], [n1-x1,n2-x2]]), correction = True))"
   ]
  },
  {
   "cell_type": "code",
   "execution_count": 67,
   "metadata": {},
   "outputs": [
    {
     "data": {
      "text/html": [
       "<div>\n",
       "<style scoped>\n",
       "    .dataframe tbody tr th:only-of-type {\n",
       "        vertical-align: middle;\n",
       "    }\n",
       "\n",
       "    .dataframe tbody tr th {\n",
       "        vertical-align: top;\n",
       "    }\n",
       "\n",
       "    .dataframe thead th {\n",
       "        text-align: right;\n",
       "    }\n",
       "</style>\n",
       "<table border=\"1\" class=\"dataframe\">\n",
       "  <thead>\n",
       "    <tr style=\"text-align: right;\">\n",
       "      <th></th>\n",
       "      <th>country</th>\n",
       "      <th>chi2 test statistics</th>\n",
       "      <th>P-value</th>\n",
       "      <th>DF</th>\n",
       "    </tr>\n",
       "  </thead>\n",
       "  <tbody>\n",
       "    <tr>\n",
       "      <th>0</th>\n",
       "      <td>US</td>\n",
       "      <td>0.930288</td>\n",
       "      <td>0.334788</td>\n",
       "      <td>1</td>\n",
       "    </tr>\n",
       "    <tr>\n",
       "      <th>1</th>\n",
       "      <td>CN</td>\n",
       "      <td>0.756994</td>\n",
       "      <td>0.384271</td>\n",
       "      <td>1</td>\n",
       "    </tr>\n",
       "    <tr>\n",
       "      <th>2</th>\n",
       "      <td>GB</td>\n",
       "      <td>2.250526</td>\n",
       "      <td>0.133569</td>\n",
       "      <td>1</td>\n",
       "    </tr>\n",
       "    <tr>\n",
       "      <th>3</th>\n",
       "      <td>CA</td>\n",
       "      <td>3.578450</td>\n",
       "      <td>0.058534</td>\n",
       "      <td>1</td>\n",
       "    </tr>\n",
       "  </tbody>\n",
       "</table>\n",
       "</div>"
      ],
      "text/plain": [
       "  country  chi2 test statistics   P-value  DF\n",
       "0      US              0.930288  0.334788   1\n",
       "1      CN              0.756994  0.384271   1\n",
       "2      GB              2.250526  0.133569   1\n",
       "3      CA              3.578450  0.058534   1"
      ]
     },
     "execution_count": 67,
     "metadata": {},
     "output_type": "execute_result"
    }
   ],
   "source": [
    "# iterate through values in country and device\n",
    "# country\n",
    "test_by_country = list()\n",
    "for i in dat_aft['country'].unique():\n",
    "    test_by_country.append([i]+list(test_by_subgroup(dat_aft, 'country', i))[0:3])\n",
    "# convert list to pandas for viz\n",
    "test_by_country = pd.DataFrame(test_by_country, columns = ['country', 'chi2 test statistics', 'P-value', 'DF'])\n",
    "test_by_country\n",
    "# It seems that CA has a relatively significant difference"
   ]
  },
  {
   "cell_type": "code",
   "execution_count": 68,
   "metadata": {},
   "outputs": [
    {
     "data": {
      "text/html": [
       "<div>\n",
       "<style scoped>\n",
       "    .dataframe tbody tr th:only-of-type {\n",
       "        vertical-align: middle;\n",
       "    }\n",
       "\n",
       "    .dataframe tbody tr th {\n",
       "        vertical-align: top;\n",
       "    }\n",
       "\n",
       "    .dataframe thead th {\n",
       "        text-align: right;\n",
       "    }\n",
       "</style>\n",
       "<table border=\"1\" class=\"dataframe\">\n",
       "  <thead>\n",
       "    <tr style=\"text-align: right;\">\n",
       "      <th></th>\n",
       "      <th>device</th>\n",
       "      <th>chi2 test statistics</th>\n",
       "      <th>P-value</th>\n",
       "      <th>DF</th>\n",
       "    </tr>\n",
       "  </thead>\n",
       "  <tbody>\n",
       "    <tr>\n",
       "      <th>0</th>\n",
       "      <td>Ios</td>\n",
       "      <td>12.838918</td>\n",
       "      <td>0.000339</td>\n",
       "      <td>1</td>\n",
       "    </tr>\n",
       "    <tr>\n",
       "      <th>1</th>\n",
       "      <td>Other</td>\n",
       "      <td>0.385177</td>\n",
       "      <td>0.534846</td>\n",
       "      <td>1</td>\n",
       "    </tr>\n",
       "    <tr>\n",
       "      <th>2</th>\n",
       "      <td>Web</td>\n",
       "      <td>0.497695</td>\n",
       "      <td>0.480515</td>\n",
       "      <td>1</td>\n",
       "    </tr>\n",
       "    <tr>\n",
       "      <th>3</th>\n",
       "      <td>Android</td>\n",
       "      <td>0.732704</td>\n",
       "      <td>0.392008</td>\n",
       "      <td>1</td>\n",
       "    </tr>\n",
       "  </tbody>\n",
       "</table>\n",
       "</div>"
      ],
      "text/plain": [
       "    device  chi2 test statistics   P-value  DF\n",
       "0      Ios             12.838918  0.000339   1\n",
       "1    Other              0.385177  0.534846   1\n",
       "2      Web              0.497695  0.480515   1\n",
       "3  Android              0.732704  0.392008   1"
      ]
     },
     "execution_count": 68,
     "metadata": {},
     "output_type": "execute_result"
    }
   ],
   "source": [
    "# device\n",
    "test_by_device = list()\n",
    "for i in dat_aft['device'].unique():\n",
    "    test_by_device.append([i]+list(test_by_subgroup(dat_aft, 'device', i))[0:3])\n",
    "# convert list to pandas for viz\n",
    "test_by_device = pd.DataFrame(test_by_device, columns = ['device', 'chi2 test statistics', 'P-value', 'DF'])\n",
    "test_by_device\n",
    "# Ios is significant different! Discuss with Engineering team and Product Management team.\n",
    "# Is this a engineering bug? Or is it really because of the difference across platforms?\n",
    "# Dive deep!"
   ]
  },
  {
   "cell_type": "markdown",
   "metadata": {},
   "source": [
    "### 5. Revenue"
   ]
  },
  {
   "cell_type": "code",
   "execution_count": 69,
   "metadata": {},
   "outputs": [
    {
     "data": {
      "image/png": "[encoded data removed]",
      "text/plain": [
       "<Figure size 432x288 with 1 Axes>"
      ]
     },
     "metadata": {},
     "output_type": "display_data"
    }
   ],
   "source": [
    "# Quick Histogram of Revenue \n",
    "plt.hist(dat['revenue'], bins = 30)\n",
    "plt.xlabel('Revenue')\n",
    "plt.ylabel('Frequency')\n",
    "plt.title('Histogram of Revenue')\n",
    "plt.show() # Highly right skewed"
   ]
  },
  {
   "cell_type": "code",
   "execution_count": 70,
   "metadata": {},
   "outputs": [
    {
     "name": "stdout",
     "output_type": "stream",
     "text": [
      "89.01 % of records contain 0 revenue.\n"
     ]
    }
   ],
   "source": [
    "# Porportion of Revenue = 0\n",
    "print(round(100*sum(dat.revenue==0)/dat.shape[0],2), '% of records contain 0 revenue.') # 89%"
   ]
  },
  {
   "cell_type": "markdown",
   "metadata": {},
   "source": [
    "The **Revenue** is usually highly skewed and a big proportion is actually **Revenue = 0**. <br>\n",
    "\n",
    "**Solutions when data is highly skewed or statistics is hard to approximate with CLT?** <br>\n",
    "For exammple:<br>\n",
    "1. Metrics like revenue is highly skewed & have outliers; <br>\n",
    "2. In risk and fraud, most transactions have no loss while some fraud transactions have very high loss; <br>\n",
    "\n",
    "* Transformation (hard to interpret); <br>\n",
    "* Winsorization / Capping <br>\n",
    "* Bootstrap <br>"
   ]
  },
  {
   "cell_type": "code",
   "execution_count": 31,
   "metadata": {},
   "outputs": [
    {
     "data": {
      "image/png": "[encoded data removed]",
      "text/plain": [
       "<Figure size 432x288 with 1 Axes>"
      ]
     },
     "metadata": {},
     "output_type": "display_data"
    }
   ],
   "source": [
    "# Quick Histogram of None-Zero Revenue \n",
    "plt.hist(dat['revenue'][dat.revenue!=0], bins = 30)\n",
    "plt.xlabel('Revenue')\n",
    "plt.ylabel('Frequency')\n",
    "plt.title('Histogram of Revenue')\n",
    "plt.show() # Still highly right skewed"
   ]
  },
  {
   "cell_type": "code",
   "execution_count": 71,
   "metadata": {},
   "outputs": [],
   "source": [
    "# winsorization, capping\n",
    "bound = np.percentile(dat['revenue'][dat.revenue!=0], 99.9) # values over 99% Percentile, set to 99% Percentile\n",
    "Revenue = dat['revenue'][dat.revenue!=0]\n",
    "Revenue[Revenue>bound] = bound"
   ]
  },
  {
   "cell_type": "code",
   "execution_count": 72,
   "metadata": {},
   "outputs": [
    {
     "name": "stdout",
     "output_type": "stream",
     "text": [
      "108.63033901551636 1.017984449852736\n"
     ]
    }
   ],
   "source": [
    "# Method 1: use CLT for estimator, distribution of Mean Revenue\n",
    "E_mean = np.mean(Revenue)\n",
    "E_var = np.var(Revenue)/len(Revenue)\n",
    "print(E_mean, E_var)"
   ]
  },
  {
   "cell_type": "code",
   "execution_count": 34,
   "metadata": {},
   "outputs": [
    {
     "name": "stdout",
     "output_type": "stream",
     "text": [
      "106.84922160717728 0.45583914980336954\n"
     ]
    }
   ],
   "source": [
    "# Method 2: use bootstrap for estimator, distribution of Mean Revenue\n",
    "# Bootstrap is a resampling method. \n",
    "# It can be used to estimate sampling distribution of any statistics, \n",
    "# commonly used in estimating CI & P-value & statistics with complex or no close-form estimator;\n",
    "btsample = list()\n",
    "for i in range(1000):\n",
    "    btsample.append(np.mean([random.choice(list(Revenue)) for j in range(len(Revenue))]))\n",
    "bt_mean = np.mean(btsample)\n",
    "bt_var = np.var(btsample)\n",
    "print(bt_mean, bt_var)"
   ]
  },
  {
   "cell_type": "code",
   "execution_count": 35,
   "metadata": {},
   "outputs": [
    {
     "name": "stdout",
     "output_type": "stream",
     "text": [
      "133.25440073292134 1.7884030812161904\n"
     ]
    }
   ],
   "source": [
    "# Method 2+: use bootstrap for estimator, distribution of 90% Percentile Revenue\n",
    "btsample = list()\n",
    "for i in range(1000):\n",
    "    btsample.append(np.percentile([random.choice(list(Revenue)) for j in range(len(Revenue))], 90))\n",
    "bt_90pt_mean = np.mean(btsample)\n",
    "bt_90pt_var = np.var(btsample)\n",
    "print(bt_90pt_mean, bt_90pt_var)"
   ]
  },
  {
   "cell_type": "markdown",
   "metadata": {},
   "source": [
    "### 6. Result Analysis"
   ]
  },
  {
   "cell_type": "markdown",
   "metadata": {},
   "source": [
    "In this part we will be doing: <br>\n",
    "* __Regression Adjustment__ <br>\n",
    "    Y_post = beta_pre * Y_pre + beta_t * Treatment_Group <br>\n",
    "    <br>\n",
    "* __Diff-in-Diff Comparisons__<br>\n",
    "    (Y_post/t - Y_pre/t) - (Y_post/c - Y_pre/c) \n",
    "\n",
    "We had the assumption that the A/B groups have no difference before experiment. What if it does exist difference? __Use detrended (bias removed) numbers to put into test models;__"
   ]
  },
  {
   "cell_type": "code",
   "execution_count": 73,
   "metadata": {},
   "outputs": [
    {
     "name": "stderr",
     "output_type": "stream",
     "text": [
      "D:\\Anaconda3\\lib\\site-packages\\pandas\\core\\indexing.py:543: SettingWithCopyWarning: \n",
      "A value is trying to be set on a copy of a slice from a DataFrame.\n",
      "Try using .loc[row_indexer,col_indexer] = value instead\n",
      "\n",
      "See the caveats in the documentation: http://pandas.pydata.org/pandas-docs/stable/indexing.html#indexing-view-versus-copy\n",
      "  self.obj[item] = s\n"
     ]
    }
   ],
   "source": [
    "# Let's set the bound to be 99.9% percentile\n",
    "# we use 99.9 percentile as bound in revenue > 0\n",
    "bound = np.percentile(dat['revenue'][dat.revenue!=0], 99.9)\n",
    "dat_bef.loc[dat_bef.revenue>bound, 'revenue'] = bound\n",
    "dat_aft.loc[dat_aft.revenue>bound, 'revenue'] = bound"
   ]
  },
  {
   "cell_type": "code",
   "execution_count": 74,
   "metadata": {},
   "outputs": [
    {
     "data": {
      "text/plain": [
       "Ttest_indResult(statistic=1.374603111674076, pvalue=0.1692730714744911)"
      ]
     },
     "execution_count": 74,
     "metadata": {},
     "output_type": "execute_result"
    }
   ],
   "source": [
    "# Regular t test\n",
    "ctrl_revenue = dat_aft.loc[dat_aft.groups == 'control', 'revenue']\n",
    "test_revenue = dat_aft.loc[dat_aft.groups == 'treatment', 'revenue']\n",
    "scipy.stats.ttest_ind(np.array(ctrl_revenue), np.array(test_revenue), equal_var = False)\n",
    "# result is the mean revenue (including 0) doesn't change significantly after the experiment, \n",
    "# when only looking at dat_aft (not considering pre-bias)"
   ]
  },
  {
   "cell_type": "code",
   "execution_count": 75,
   "metadata": {},
   "outputs": [],
   "source": [
    "# There might be some bias prior to experiment start\n",
    "# Assuming the change happens instantly, no learning effect, then it is fine to do same-weight ensemble\n",
    "# 1. avg daily revenue of each user before experiment\n",
    "daily_rev_pre = dat_bef.groupby(['userid', 'country', 'device', 'groups'])['revenue'].sum()/3\n",
    "daily_rev_pre = daily_rev_pre.to_frame().reset_index().set_index('userid')\n",
    "# 2. avg daily revenue of each user after experiment\n",
    "daily_rev_post = dat_aft.groupby(['userid', 'country', 'device', 'groups'])['revenue'].sum()/11\n",
    "daily_rev_post = daily_rev_post.to_frame().reset_index().set_index('userid')\n",
    "# 3. daily revenue (index: userid, col1: rev_pre, col2: rev_post)\n",
    "# left join here. Post on the left, depends on the interpretation;\n",
    "# Personally, I think inner join make better sense here. \n",
    "daily_rev = pd.merge(daily_rev_post , daily_rev_pre, left_index=True, right_index=True, how='left')\n",
    "daily_rev.loc[daily_rev.revenue_y.isnull() ,'revenue_y'] = 0 # fill in missing value"
   ]
  },
  {
   "cell_type": "code",
   "execution_count": 76,
   "metadata": {},
   "outputs": [
    {
     "data": {
      "text/html": [
       "<div>\n",
       "<style scoped>\n",
       "    .dataframe tbody tr th:only-of-type {\n",
       "        vertical-align: middle;\n",
       "    }\n",
       "\n",
       "    .dataframe tbody tr th {\n",
       "        vertical-align: top;\n",
       "    }\n",
       "\n",
       "    .dataframe thead th {\n",
       "        text-align: right;\n",
       "    }\n",
       "</style>\n",
       "<table border=\"1\" class=\"dataframe\">\n",
       "  <thead>\n",
       "    <tr style=\"text-align: right;\">\n",
       "      <th></th>\n",
       "      <th>revenue_x</th>\n",
       "      <th>revenue_y</th>\n",
       "      <th>groups_x_treatment</th>\n",
       "      <th>country_x_CN</th>\n",
       "      <th>country_x_GB</th>\n",
       "      <th>country_x_US</th>\n",
       "      <th>device_x_Ios</th>\n",
       "      <th>device_x_Other</th>\n",
       "      <th>device_x_Web</th>\n",
       "      <th>intercept</th>\n",
       "    </tr>\n",
       "    <tr>\n",
       "      <th>userid</th>\n",
       "      <th></th>\n",
       "      <th></th>\n",
       "      <th></th>\n",
       "      <th></th>\n",
       "      <th></th>\n",
       "      <th></th>\n",
       "      <th></th>\n",
       "      <th></th>\n",
       "      <th></th>\n",
       "      <th></th>\n",
       "    </tr>\n",
       "  </thead>\n",
       "  <tbody>\n",
       "    <tr>\n",
       "      <th>1000.0</th>\n",
       "      <td>26.88051</td>\n",
       "      <td>0.0</td>\n",
       "      <td>0</td>\n",
       "      <td>0</td>\n",
       "      <td>0</td>\n",
       "      <td>1</td>\n",
       "      <td>0</td>\n",
       "      <td>0</td>\n",
       "      <td>0</td>\n",
       "      <td>1</td>\n",
       "    </tr>\n",
       "    <tr>\n",
       "      <th>1001.0</th>\n",
       "      <td>0.00000</td>\n",
       "      <td>0.0</td>\n",
       "      <td>1</td>\n",
       "      <td>0</td>\n",
       "      <td>0</td>\n",
       "      <td>0</td>\n",
       "      <td>0</td>\n",
       "      <td>1</td>\n",
       "      <td>0</td>\n",
       "      <td>1</td>\n",
       "    </tr>\n",
       "    <tr>\n",
       "      <th>1003.0</th>\n",
       "      <td>0.00000</td>\n",
       "      <td>0.0</td>\n",
       "      <td>0</td>\n",
       "      <td>0</td>\n",
       "      <td>0</td>\n",
       "      <td>0</td>\n",
       "      <td>0</td>\n",
       "      <td>1</td>\n",
       "      <td>0</td>\n",
       "      <td>1</td>\n",
       "    </tr>\n",
       "    <tr>\n",
       "      <th>1005.0</th>\n",
       "      <td>18.22475</td>\n",
       "      <td>0.0</td>\n",
       "      <td>1</td>\n",
       "      <td>0</td>\n",
       "      <td>0</td>\n",
       "      <td>1</td>\n",
       "      <td>0</td>\n",
       "      <td>0</td>\n",
       "      <td>0</td>\n",
       "      <td>1</td>\n",
       "    </tr>\n",
       "    <tr>\n",
       "      <th>1006.0</th>\n",
       "      <td>0.00000</td>\n",
       "      <td>0.0</td>\n",
       "      <td>1</td>\n",
       "      <td>0</td>\n",
       "      <td>0</td>\n",
       "      <td>0</td>\n",
       "      <td>1</td>\n",
       "      <td>0</td>\n",
       "      <td>0</td>\n",
       "      <td>1</td>\n",
       "    </tr>\n",
       "  </tbody>\n",
       "</table>\n",
       "</div>"
      ],
      "text/plain": [
       "        revenue_x  revenue_y  groups_x_treatment  country_x_CN  country_x_GB  \\\n",
       "userid                                                                         \n",
       "1000.0   26.88051        0.0                   0             0             0   \n",
       "1001.0    0.00000        0.0                   1             0             0   \n",
       "1003.0    0.00000        0.0                   0             0             0   \n",
       "1005.0   18.22475        0.0                   1             0             0   \n",
       "1006.0    0.00000        0.0                   1             0             0   \n",
       "\n",
       "        country_x_US  device_x_Ios  device_x_Other  device_x_Web  intercept  \n",
       "userid                                                                       \n",
       "1000.0             1             0               0             0          1  \n",
       "1001.0             0             0               1             0          1  \n",
       "1003.0             0             0               1             0          1  \n",
       "1005.0             1             0               0             0          1  \n",
       "1006.0             0             1               0             0          1  "
      ]
     },
     "execution_count": 76,
     "metadata": {},
     "output_type": "execute_result"
    }
   ],
   "source": [
    "# Regression Adjustment pre diff\n",
    "# create dummy for daily_rev\n",
    "daily_rev = pd.get_dummies(daily_rev[['groups_x', 'country_x', 'device_x', 'revenue_x', 'revenue_y']], drop_first = True)\n",
    "daily_rev['intercept'] = 1 # Note, if we don't have the intercept, statsmodels will by default has not intercept\n",
    "daily_rev.head()"
   ]
  },
  {
   "cell_type": "code",
   "execution_count": 77,
   "metadata": {},
   "outputs": [
    {
     "data": {
      "text/html": [
       "<table class=\"simpletable\">\n",
       "<caption>OLS Regression Results</caption>\n",
       "<tr>\n",
       "  <th>Dep. Variable:</th>        <td>revenue_x</td>    <th>  R-squared:         </th> <td>   0.001</td> \n",
       "</tr>\n",
       "<tr>\n",
       "  <th>Model:</th>                   <td>OLS</td>       <th>  Adj. R-squared:    </th> <td>   0.000</td> \n",
       "</tr>\n",
       "<tr>\n",
       "  <th>Method:</th>             <td>Least Squares</td>  <th>  F-statistic:       </th> <td>   1.171</td> \n",
       "</tr>\n",
       "<tr>\n",
       "  <th>Date:</th>             <td>Wed, 08 Aug 2018</td> <th>  Prob (F-statistic):</th>  <td> 0.313</td>  \n",
       "</tr>\n",
       "<tr>\n",
       "  <th>Time:</th>                 <td>18:21:32</td>     <th>  Log-Likelihood:    </th> <td> -21617.</td> \n",
       "</tr>\n",
       "<tr>\n",
       "  <th>No. Observations:</th>      <td>  6903</td>      <th>  AIC:               </th> <td>4.325e+04</td>\n",
       "</tr>\n",
       "<tr>\n",
       "  <th>Df Residuals:</th>          <td>  6894</td>      <th>  BIC:               </th> <td>4.331e+04</td>\n",
       "</tr>\n",
       "<tr>\n",
       "  <th>Df Model:</th>              <td>     8</td>      <th>                     </th>     <td> </td>    \n",
       "</tr>\n",
       "<tr>\n",
       "  <th>Covariance Type:</th>      <td>nonrobust</td>    <th>                     </th>     <td> </td>    \n",
       "</tr>\n",
       "</table>\n",
       "<table class=\"simpletable\">\n",
       "<tr>\n",
       "           <td></td>             <th>coef</th>     <th>std err</th>      <th>t</th>      <th>P>|t|</th>  <th>[0.025</th>    <th>0.975]</th>  \n",
       "</tr>\n",
       "<tr>\n",
       "  <th>revenue_y</th>          <td>    0.0071</td> <td>    0.007</td> <td>    1.057</td> <td> 0.291</td> <td>   -0.006</td> <td>    0.020</td>\n",
       "</tr>\n",
       "<tr>\n",
       "  <th>groups_x_treatment</th> <td>   -0.2011</td> <td>    0.134</td> <td>   -1.505</td> <td> 0.132</td> <td>   -0.463</td> <td>    0.061</td>\n",
       "</tr>\n",
       "<tr>\n",
       "  <th>country_x_CN</th>       <td>   -0.0362</td> <td>    0.211</td> <td>   -0.172</td> <td> 0.864</td> <td>   -0.450</td> <td>    0.378</td>\n",
       "</tr>\n",
       "<tr>\n",
       "  <th>country_x_GB</th>       <td>    0.1047</td> <td>    0.211</td> <td>    0.496</td> <td> 0.620</td> <td>   -0.309</td> <td>    0.519</td>\n",
       "</tr>\n",
       "<tr>\n",
       "  <th>country_x_US</th>       <td>   -0.1176</td> <td>    0.184</td> <td>   -0.640</td> <td> 0.522</td> <td>   -0.478</td> <td>    0.243</td>\n",
       "</tr>\n",
       "<tr>\n",
       "  <th>device_x_Ios</th>       <td>   -0.0417</td> <td>    0.193</td> <td>   -0.216</td> <td> 0.829</td> <td>   -0.419</td> <td>    0.336</td>\n",
       "</tr>\n",
       "<tr>\n",
       "  <th>device_x_Other</th>     <td>   -0.0418</td> <td>    0.191</td> <td>   -0.219</td> <td> 0.827</td> <td>   -0.417</td> <td>    0.333</td>\n",
       "</tr>\n",
       "<tr>\n",
       "  <th>device_x_Web</th>       <td>   -0.3346</td> <td>    0.172</td> <td>   -1.941</td> <td> 0.052</td> <td>   -0.672</td> <td>    0.003</td>\n",
       "</tr>\n",
       "<tr>\n",
       "  <th>intercept</th>          <td>    2.9385</td> <td>    0.194</td> <td>   15.120</td> <td> 0.000</td> <td>    2.557</td> <td>    3.319</td>\n",
       "</tr>\n",
       "</table>\n",
       "<table class=\"simpletable\">\n",
       "<tr>\n",
       "  <th>Omnibus:</th>       <td>4442.813</td> <th>  Durbin-Watson:     </th> <td>   1.988</td> \n",
       "</tr>\n",
       "<tr>\n",
       "  <th>Prob(Omnibus):</th>  <td> 0.000</td>  <th>  Jarque-Bera (JB):  </th> <td>70387.010</td>\n",
       "</tr>\n",
       "<tr>\n",
       "  <th>Skew:</th>           <td> 2.855</td>  <th>  Prob(JB):          </th> <td>    0.00</td> \n",
       "</tr>\n",
       "<tr>\n",
       "  <th>Kurtosis:</th>       <td>17.564</td>  <th>  Cond. No.          </th> <td>    50.8</td> \n",
       "</tr>\n",
       "</table><br/><br/>Warnings:<br/>[1] Standard Errors assume that the covariance matrix of the errors is correctly specified."
      ],
      "text/plain": [
       "<class 'statsmodels.iolib.summary.Summary'>\n",
       "\"\"\"\n",
       "                            OLS Regression Results                            \n",
       "==============================================================================\n",
       "Dep. Variable:              revenue_x   R-squared:                       0.001\n",
       "Model:                            OLS   Adj. R-squared:                  0.000\n",
       "Method:                 Least Squares   F-statistic:                     1.171\n",
       "Date:                Wed, 08 Aug 2018   Prob (F-statistic):              0.313\n",
       "Time:                        18:21:32   Log-Likelihood:                -21617.\n",
       "No. Observations:                6903   AIC:                         4.325e+04\n",
       "Df Residuals:                    6894   BIC:                         4.331e+04\n",
       "Df Model:                           8                                         \n",
       "Covariance Type:            nonrobust                                         \n",
       "======================================================================================\n",
       "                         coef    std err          t      P>|t|      [0.025      0.975]\n",
       "--------------------------------------------------------------------------------------\n",
       "revenue_y              0.0071      0.007      1.057      0.291      -0.006       0.020\n",
       "groups_x_treatment    -0.2011      0.134     -1.505      0.132      -0.463       0.061\n",
       "country_x_CN          -0.0362      0.211     -0.172      0.864      -0.450       0.378\n",
       "country_x_GB           0.1047      0.211      0.496      0.620      -0.309       0.519\n",
       "country_x_US          -0.1176      0.184     -0.640      0.522      -0.478       0.243\n",
       "device_x_Ios          -0.0417      0.193     -0.216      0.829      -0.419       0.336\n",
       "device_x_Other        -0.0418      0.191     -0.219      0.827      -0.417       0.333\n",
       "device_x_Web          -0.3346      0.172     -1.941      0.052      -0.672       0.003\n",
       "intercept              2.9385      0.194     15.120      0.000       2.557       3.319\n",
       "==============================================================================\n",
       "Omnibus:                     4442.813   Durbin-Watson:                   1.988\n",
       "Prob(Omnibus):                  0.000   Jarque-Bera (JB):            70387.010\n",
       "Skew:                           2.855   Prob(JB):                         0.00\n",
       "Kurtosis:                      17.564   Cond. No.                         50.8\n",
       "==============================================================================\n",
       "\n",
       "Warnings:\n",
       "[1] Standard Errors assume that the covariance matrix of the errors is correctly specified.\n",
       "\"\"\""
      ]
     },
     "execution_count": 77,
     "metadata": {},
     "output_type": "execute_result"
    }
   ],
   "source": [
    "# use linear regression, use groups + country + device + rev_pre to predict rev_post\n",
    "model = sm.OLS(daily_rev['revenue_x'], daily_rev.loc[:, daily_rev.columns!='revenue_x'])\n",
    "result = model.fit()\n",
    "result.summary()"
   ]
  },
  {
   "cell_type": "markdown",
   "metadata": {},
   "source": [
    "__we can see from the regression results that groups variable is not significant!__"
   ]
  },
  {
   "cell_type": "code",
   "execution_count": 79,
   "metadata": {},
   "outputs": [
    {
     "data": {
      "text/plain": [
       "Ttest_indResult(statistic=-2.0598871796374603, pvalue=0.03944770277428493)"
      ]
     },
     "execution_count": 79,
     "metadata": {},
     "output_type": "execute_result"
    }
   ],
   "source": [
    "# Diff-in-Diff t test\n",
    "scipy.stats.ttest_ind(np.array(daily_rev.loc[daily_rev.groups_x_treatment==1, :].apply(lambda row: row['revenue_x'] - row['revenue_y'], axis=1)), \n",
    "                      np.array(daily_rev.loc[daily_rev.groups_x_treatment==0, :].apply(lambda row: row['revenue_x'] - row['revenue_y'], axis=1)), \n",
    "                      equal_var = False)\n",
    "# null hypothesis: true difference in means is equal to 0;\n",
    "# alternative hypothesis: true difference in means is not equal to 0; - Checked!"
   ]
  },
  {
   "cell_type": "markdown",
   "metadata": {},
   "source": [
    "__we can see from the diff-in-diff t test that the pure changes differ from control group and treatment group;__"
   ]
  },
  {
   "cell_type": "markdown",
   "metadata": {},
   "source": [
    "### 7. Cohort Analysis: Learning Effect"
   ]
  },
  {
   "cell_type": "markdown",
   "metadata": {},
   "source": [
    "Using cohort analysis, we try to understand the __change over time__. In total, 14 dates, 4th day start, line chart with CI by date; This part we go back and focus on __CTR__."
   ]
  },
  {
   "cell_type": "code",
   "execution_count": 80,
   "metadata": {},
   "outputs": [],
   "source": [
    "# Look at users enrolled on day 4\n",
    "day4User = dat_aft.loc[dat_aft.date=='2017-05-11', 'userid']\n",
    "d4 = dat_aft.loc[dat_aft.userid.isin(day4User),:]"
   ]
  },
  {
   "cell_type": "code",
   "execution_count": 81,
   "metadata": {},
   "outputs": [
    {
     "data": {
      "text/html": [
       "<div>\n",
       "<style scoped>\n",
       "    .dataframe tbody tr th:only-of-type {\n",
       "        vertical-align: middle;\n",
       "    }\n",
       "\n",
       "    .dataframe tbody tr th {\n",
       "        vertical-align: top;\n",
       "    }\n",
       "\n",
       "    .dataframe thead th {\n",
       "        text-align: right;\n",
       "    }\n",
       "</style>\n",
       "<table border=\"1\" class=\"dataframe\">\n",
       "  <thead>\n",
       "    <tr style=\"text-align: right;\">\n",
       "      <th></th>\n",
       "      <th>chi2 test statistics</th>\n",
       "      <th>P-value</th>\n",
       "      <th>DF</th>\n",
       "    </tr>\n",
       "    <tr>\n",
       "      <th>date</th>\n",
       "      <th></th>\n",
       "      <th></th>\n",
       "      <th></th>\n",
       "    </tr>\n",
       "  </thead>\n",
       "  <tbody>\n",
       "    <tr>\n",
       "      <th>2017-05-11</th>\n",
       "      <td>2.960843</td>\n",
       "      <td>0.085303</td>\n",
       "      <td>1</td>\n",
       "    </tr>\n",
       "    <tr>\n",
       "      <th>2017-05-12</th>\n",
       "      <td>0.125525</td>\n",
       "      <td>0.723117</td>\n",
       "      <td>1</td>\n",
       "    </tr>\n",
       "    <tr>\n",
       "      <th>2017-05-13</th>\n",
       "      <td>0.569108</td>\n",
       "      <td>0.450613</td>\n",
       "      <td>1</td>\n",
       "    </tr>\n",
       "    <tr>\n",
       "      <th>2017-05-14</th>\n",
       "      <td>0.772734</td>\n",
       "      <td>0.379373</td>\n",
       "      <td>1</td>\n",
       "    </tr>\n",
       "    <tr>\n",
       "      <th>2017-05-15</th>\n",
       "      <td>0.457472</td>\n",
       "      <td>0.498808</td>\n",
       "      <td>1</td>\n",
       "    </tr>\n",
       "    <tr>\n",
       "      <th>2017-05-16</th>\n",
       "      <td>0.474230</td>\n",
       "      <td>0.491048</td>\n",
       "      <td>1</td>\n",
       "    </tr>\n",
       "    <tr>\n",
       "      <th>2017-05-17</th>\n",
       "      <td>1.042728</td>\n",
       "      <td>0.307188</td>\n",
       "      <td>1</td>\n",
       "    </tr>\n",
       "    <tr>\n",
       "      <th>2017-05-18</th>\n",
       "      <td>0.764076</td>\n",
       "      <td>0.382056</td>\n",
       "      <td>1</td>\n",
       "    </tr>\n",
       "    <tr>\n",
       "      <th>2017-05-19</th>\n",
       "      <td>2.227362</td>\n",
       "      <td>0.135585</td>\n",
       "      <td>1</td>\n",
       "    </tr>\n",
       "    <tr>\n",
       "      <th>2017-05-20</th>\n",
       "      <td>2.110469</td>\n",
       "      <td>0.146294</td>\n",
       "      <td>1</td>\n",
       "    </tr>\n",
       "    <tr>\n",
       "      <th>2017-05-21</th>\n",
       "      <td>0.000223</td>\n",
       "      <td>0.988094</td>\n",
       "      <td>1</td>\n",
       "    </tr>\n",
       "  </tbody>\n",
       "</table>\n",
       "</div>"
      ],
      "text/plain": [
       "            chi2 test statistics   P-value  DF\n",
       "date                                          \n",
       "2017-05-11              2.960843  0.085303   1\n",
       "2017-05-12              0.125525  0.723117   1\n",
       "2017-05-13              0.569108  0.450613   1\n",
       "2017-05-14              0.772734  0.379373   1\n",
       "2017-05-15              0.457472  0.498808   1\n",
       "2017-05-16              0.474230  0.491048   1\n",
       "2017-05-17              1.042728  0.307188   1\n",
       "2017-05-18              0.764076  0.382056   1\n",
       "2017-05-19              2.227362  0.135585   1\n",
       "2017-05-20              2.110469  0.146294   1\n",
       "2017-05-21              0.000223  0.988094   1"
      ]
     },
     "execution_count": 81,
     "metadata": {},
     "output_type": "execute_result"
    }
   ],
   "source": [
    "# iterate through values in dates\n",
    "# country\n",
    "test_by_date = list()\n",
    "for i in dat_aft['date'].unique():\n",
    "    test_by_date.append([i]+list(test_by_subgroup(d4, 'date', i))[0:3])\n",
    "# convert list to pandas for viz\n",
    "test_by_date = pd.DataFrame(test_by_date, columns = ['date', 'chi2 test statistics', 'P-value', 'DF'])\n",
    "test_by_date.set_index('date', inplace = True)\n",
    "test_by_date.sort_index(inplace = True)\n",
    "test_by_date"
   ]
  },
  {
   "cell_type": "markdown",
   "metadata": {},
   "source": [
    "We can see from the __cohort analysis__, there is no significantly __learning effect__ in this problem. We can dive deep into more granular subgroups below: <br>\n",
    "    * date + country <br>\n",
    "    * date + device <br> \n",
    "    * dete + country + device <br>"
   ]
  },
  {
   "cell_type": "markdown",
   "metadata": {},
   "source": [
    "### 8. Notes:"
   ]
  },
  {
   "cell_type": "markdown",
   "metadata": {},
   "source": [
    "This is a tutorial on how to approach a problem in A/B testing. I am writing this for myself. So whenever I run into some new scenarios, I can directly go back to my own post as I am more familiar. Please let me know if there is any problem about the context. We can touchbase on these."
   ]
  },
  {
   "cell_type": "code",
   "execution_count": null,
   "metadata": {},
   "outputs": [],
   "source": []
  }
 ],
 "metadata": {
  "kernelspec": {
   "display_name": "Python 3",
   "language": "python",
   "name": "python3"
  },
  "language_info": {
   "codemirror_mode": {
    "name": "ipython",
    "version": 3
   },
   "file_extension": ".py",
   "mimetype": "text/x-python",
   "name": "python",
   "nbconvert_exporter": "python",
   "pygments_lexer": "ipython3",
   "version": "3.6.5"
  }
 },
 "nbformat": 4,
 "nbformat_minor": 2
}
